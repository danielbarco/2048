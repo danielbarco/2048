{
 "cells": [
  {
   "cell_type": "code",
   "execution_count": 15,
   "metadata": {},
   "outputs": [],
   "source": [
    "import seaborn as sns\n",
    "import json\n",
    "import pandas as pd\n",
    "import re\n",
    "import matplotlib.pyplot as plt"
   ]
  },
  {
   "cell_type": "code",
   "execution_count": 3,
   "metadata": {},
   "outputs": [
    {
     "data": {
      "text/html": [
       "<div>\n",
       "<style scoped>\n",
       "    .dataframe tbody tr th:only-of-type {\n",
       "        vertical-align: middle;\n",
       "    }\n",
       "\n",
       "    .dataframe tbody tr th {\n",
       "        vertical-align: top;\n",
       "    }\n",
       "\n",
       "    .dataframe thead th {\n",
       "        text-align: right;\n",
       "    }\n",
       "</style>\n",
       "<table border=\"1\" class=\"dataframe\">\n",
       "  <thead>\n",
       "    <tr style=\"text-align: right;\">\n",
       "      <th></th>\n",
       "      <th>filename</th>\n",
       "      <th>average</th>\n",
       "      <th>total_odo</th>\n",
       "      <th>reached_2048</th>\n",
       "      <th>reached_1024</th>\n",
       "    </tr>\n",
       "  </thead>\n",
       "  <tbody>\n",
       "    <tr>\n",
       "      <th>0</th>\n",
       "      <td>n4_a02_d09_agent.npy</td>\n",
       "      <td>23024.28</td>\n",
       "      <td>124802</td>\n",
       "      <td>46</td>\n",
       "      <td>86</td>\n",
       "    </tr>\n",
       "    <tr>\n",
       "      <th>1</th>\n",
       "      <td>n4_a02_d092_agent.npy</td>\n",
       "      <td>24114.36</td>\n",
       "      <td>130744</td>\n",
       "      <td>54</td>\n",
       "      <td>86</td>\n",
       "    </tr>\n",
       "    <tr>\n",
       "      <th>2</th>\n",
       "      <td>n4_a02_d094_agent.npy</td>\n",
       "      <td>27689.28</td>\n",
       "      <td>146919</td>\n",
       "      <td>59</td>\n",
       "      <td>97</td>\n",
       "    </tr>\n",
       "    <tr>\n",
       "      <th>3</th>\n",
       "      <td>n4_a02_d096_agent.npy</td>\n",
       "      <td>30833.12</td>\n",
       "      <td>159243</td>\n",
       "      <td>72</td>\n",
       "      <td>92</td>\n",
       "    </tr>\n",
       "    <tr>\n",
       "      <th>4</th>\n",
       "      <td>n4_a02_d098_agent.npy</td>\n",
       "      <td>32093.08</td>\n",
       "      <td>163790</td>\n",
       "      <td>66</td>\n",
       "      <td>92</td>\n",
       "    </tr>\n",
       "    <tr>\n",
       "      <th>5</th>\n",
       "      <td>n4_a02_d099_agent.npy</td>\n",
       "      <td>35635.96</td>\n",
       "      <td>176920</td>\n",
       "      <td>77</td>\n",
       "      <td>94</td>\n",
       "    </tr>\n",
       "    <tr>\n",
       "      <th>6</th>\n",
       "      <td>n4_a02_d1_agent.npy</td>\n",
       "      <td>30274.80</td>\n",
       "      <td>155745</td>\n",
       "      <td>69</td>\n",
       "      <td>90</td>\n",
       "    </tr>\n",
       "    <tr>\n",
       "      <th>7</th>\n",
       "      <td>n4_a01_d099_agent.npy</td>\n",
       "      <td>27978.16</td>\n",
       "      <td>145366</td>\n",
       "      <td>59</td>\n",
       "      <td>88</td>\n",
       "    </tr>\n",
       "    <tr>\n",
       "      <th>8</th>\n",
       "      <td>n4_a03_d099_agent.npy</td>\n",
       "      <td>20049.52</td>\n",
       "      <td>108154</td>\n",
       "      <td>41</td>\n",
       "      <td>87</td>\n",
       "    </tr>\n",
       "    <tr>\n",
       "      <th>9</th>\n",
       "      <td>n4_a04_d099_agent.npy</td>\n",
       "      <td>22367.96</td>\n",
       "      <td>119553</td>\n",
       "      <td>50</td>\n",
       "      <td>91</td>\n",
       "    </tr>\n",
       "  </tbody>\n",
       "</table>\n",
       "</div>"
      ],
      "text/plain": [
       "                filename   average  total_odo  reached_2048  reached_1024\n",
       "0   n4_a02_d09_agent.npy  23024.28     124802            46            86\n",
       "1  n4_a02_d092_agent.npy  24114.36     130744            54            86\n",
       "2  n4_a02_d094_agent.npy  27689.28     146919            59            97\n",
       "3  n4_a02_d096_agent.npy  30833.12     159243            72            92\n",
       "4  n4_a02_d098_agent.npy  32093.08     163790            66            92\n",
       "5  n4_a02_d099_agent.npy  35635.96     176920            77            94\n",
       "6    n4_a02_d1_agent.npy  30274.80     155745            69            90\n",
       "7  n4_a01_d099_agent.npy  27978.16     145366            59            88\n",
       "8  n4_a03_d099_agent.npy  20049.52     108154            41            87\n",
       "9  n4_a04_d099_agent.npy  22367.96     119553            50            91"
      ]
     },
     "execution_count": 3,
     "metadata": {},
     "output_type": "execute_result"
    }
   ],
   "source": [
    "results = pd.read_json('results_100_2.json')\n",
    "results"
   ]
  },
  {
   "cell_type": "code",
   "execution_count": 4,
   "metadata": {},
   "outputs": [
    {
     "data": {
      "text/plain": [
       "0.2"
      ]
     },
     "execution_count": 4,
     "metadata": {},
     "output_type": "execute_result"
    }
   ],
   "source": [
    "float(re.search('_a([^;]*)_d', 'n4_a02_d09_agent.npy').group(1).replace('0', '0.'))"
   ]
  },
  {
   "cell_type": "code",
   "execution_count": 5,
   "metadata": {},
   "outputs": [
    {
     "data": {
      "text/html": [
       "<div>\n",
       "<style scoped>\n",
       "    .dataframe tbody tr th:only-of-type {\n",
       "        vertical-align: middle;\n",
       "    }\n",
       "\n",
       "    .dataframe tbody tr th {\n",
       "        vertical-align: top;\n",
       "    }\n",
       "\n",
       "    .dataframe thead th {\n",
       "        text-align: right;\n",
       "    }\n",
       "</style>\n",
       "<table border=\"1\" class=\"dataframe\">\n",
       "  <thead>\n",
       "    <tr style=\"text-align: right;\">\n",
       "      <th></th>\n",
       "      <th>filename</th>\n",
       "      <th>average</th>\n",
       "      <th>total_odo</th>\n",
       "      <th>reached_2048</th>\n",
       "      <th>reached_1024</th>\n",
       "      <th>learning_rate</th>\n",
       "      <th>decay</th>\n",
       "    </tr>\n",
       "  </thead>\n",
       "  <tbody>\n",
       "    <tr>\n",
       "      <th>0</th>\n",
       "      <td>n4_a02_d09_agent.npy</td>\n",
       "      <td>23024.28</td>\n",
       "      <td>124802</td>\n",
       "      <td>46</td>\n",
       "      <td>86</td>\n",
       "      <td>0.2</td>\n",
       "      <td>0.90</td>\n",
       "    </tr>\n",
       "    <tr>\n",
       "      <th>1</th>\n",
       "      <td>n4_a02_d092_agent.npy</td>\n",
       "      <td>24114.36</td>\n",
       "      <td>130744</td>\n",
       "      <td>54</td>\n",
       "      <td>86</td>\n",
       "      <td>0.2</td>\n",
       "      <td>0.92</td>\n",
       "    </tr>\n",
       "    <tr>\n",
       "      <th>2</th>\n",
       "      <td>n4_a02_d094_agent.npy</td>\n",
       "      <td>27689.28</td>\n",
       "      <td>146919</td>\n",
       "      <td>59</td>\n",
       "      <td>97</td>\n",
       "      <td>0.2</td>\n",
       "      <td>0.94</td>\n",
       "    </tr>\n",
       "    <tr>\n",
       "      <th>3</th>\n",
       "      <td>n4_a02_d096_agent.npy</td>\n",
       "      <td>30833.12</td>\n",
       "      <td>159243</td>\n",
       "      <td>72</td>\n",
       "      <td>92</td>\n",
       "      <td>0.2</td>\n",
       "      <td>0.96</td>\n",
       "    </tr>\n",
       "    <tr>\n",
       "      <th>4</th>\n",
       "      <td>n4_a02_d098_agent.npy</td>\n",
       "      <td>32093.08</td>\n",
       "      <td>163790</td>\n",
       "      <td>66</td>\n",
       "      <td>92</td>\n",
       "      <td>0.2</td>\n",
       "      <td>0.98</td>\n",
       "    </tr>\n",
       "    <tr>\n",
       "      <th>5</th>\n",
       "      <td>n4_a02_d099_agent.npy</td>\n",
       "      <td>35635.96</td>\n",
       "      <td>176920</td>\n",
       "      <td>77</td>\n",
       "      <td>94</td>\n",
       "      <td>0.2</td>\n",
       "      <td>0.99</td>\n",
       "    </tr>\n",
       "    <tr>\n",
       "      <th>6</th>\n",
       "      <td>n4_a02_d1_agent.npy</td>\n",
       "      <td>30274.80</td>\n",
       "      <td>155745</td>\n",
       "      <td>69</td>\n",
       "      <td>90</td>\n",
       "      <td>0.2</td>\n",
       "      <td>1.00</td>\n",
       "    </tr>\n",
       "    <tr>\n",
       "      <th>7</th>\n",
       "      <td>n4_a01_d099_agent.npy</td>\n",
       "      <td>27978.16</td>\n",
       "      <td>145366</td>\n",
       "      <td>59</td>\n",
       "      <td>88</td>\n",
       "      <td>0.1</td>\n",
       "      <td>0.99</td>\n",
       "    </tr>\n",
       "    <tr>\n",
       "      <th>8</th>\n",
       "      <td>n4_a03_d099_agent.npy</td>\n",
       "      <td>20049.52</td>\n",
       "      <td>108154</td>\n",
       "      <td>41</td>\n",
       "      <td>87</td>\n",
       "      <td>0.3</td>\n",
       "      <td>0.99</td>\n",
       "    </tr>\n",
       "    <tr>\n",
       "      <th>9</th>\n",
       "      <td>n4_a04_d099_agent.npy</td>\n",
       "      <td>22367.96</td>\n",
       "      <td>119553</td>\n",
       "      <td>50</td>\n",
       "      <td>91</td>\n",
       "      <td>0.4</td>\n",
       "      <td>0.99</td>\n",
       "    </tr>\n",
       "  </tbody>\n",
       "</table>\n",
       "</div>"
      ],
      "text/plain": [
       "                filename   average  total_odo  reached_2048  reached_1024  \\\n",
       "0   n4_a02_d09_agent.npy  23024.28     124802            46            86   \n",
       "1  n4_a02_d092_agent.npy  24114.36     130744            54            86   \n",
       "2  n4_a02_d094_agent.npy  27689.28     146919            59            97   \n",
       "3  n4_a02_d096_agent.npy  30833.12     159243            72            92   \n",
       "4  n4_a02_d098_agent.npy  32093.08     163790            66            92   \n",
       "5  n4_a02_d099_agent.npy  35635.96     176920            77            94   \n",
       "6    n4_a02_d1_agent.npy  30274.80     155745            69            90   \n",
       "7  n4_a01_d099_agent.npy  27978.16     145366            59            88   \n",
       "8  n4_a03_d099_agent.npy  20049.52     108154            41            87   \n",
       "9  n4_a04_d099_agent.npy  22367.96     119553            50            91   \n",
       "\n",
       "   learning_rate  decay  \n",
       "0            0.2   0.90  \n",
       "1            0.2   0.92  \n",
       "2            0.2   0.94  \n",
       "3            0.2   0.96  \n",
       "4            0.2   0.98  \n",
       "5            0.2   0.99  \n",
       "6            0.2   1.00  \n",
       "7            0.1   0.99  \n",
       "8            0.3   0.99  \n",
       "9            0.4   0.99  "
      ]
     },
     "execution_count": 5,
     "metadata": {},
     "output_type": "execute_result"
    }
   ],
   "source": [
    "results['learning_rate'] = results['filename'].apply(lambda x: float(re.search('_a([^;]*)_d', x).group(1).replace('0', '0.')))\n",
    "results['decay'] = results['filename'].apply(lambda x: float(re.search('_d([^;]*)_agent', x).group(1).replace('0', '0.')))\n",
    "results"
   ]
  },
  {
   "cell_type": "code",
   "execution_count": 22,
   "metadata": {},
   "outputs": [
    {
     "data": {
      "image/png": "[encoded data removed]",
      "text/plain": [
       "<Figure size 432x288 with 1 Axes>"
      ]
     },
     "metadata": {
      "needs_background": "light"
     },
     "output_type": "display_data"
    }
   ],
   "source": [
    "ax = sns.scatterplot(data=results.loc[results['learning_rate'] == 0.2], x='decay', y= 'reached_2048', label = '2048')\n",
    "ax = sns.scatterplot(data=results.loc[results['learning_rate'] == 0.2], x='decay', y= 'reached_1024', label = '1024')\n",
    "ax = sns.scatterplot(data=results.loc[results['learning_rate'] == 0.2], x='decay', y= 'reached_4096', label = '4096')\n",
    "ax = sns.scatterplot(data=results.loc[results['learning_rate'] == 0.2], x='decay', y= 'reached_8192', label = '8192')\n",
    "\n",
    "#specfiy axis labels\n",
    "ax.set(xlabel='Decay Rate',\n",
    "       ylabel='Percentage Achievement',\n",
    "       title='Decay Rate (10,000 episods, learning rate 0.2)')\n",
    "\n",
    "plt.savefig('decay_rate.png', dpi = 600)"
   ]
  },
  {
   "cell_type": "code",
   "execution_count": 24,
   "metadata": {},
   "outputs": [
    {
     "data": {
      "image/png": "[encoded data removed]",
      "text/plain": [
       "<Figure size 432x288 with 1 Axes>"
      ]
     },
     "metadata": {
      "needs_background": "light"
     },
     "output_type": "display_data"
    }
   ],
   "source": [
    "ax = sns.scatterplot(data=results.loc[results['decay'] == 0.99], x='learning_rate', y= 'reached_2048', label = '2048')\n",
    "ax = sns.scatterplot(data=results.loc[results['decay'] == 0.99], x='learning_rate', y= 'reached_1024', label = '1024')\n",
    "ax = sns.scatterplot(data=results.loc[results['decay'] == 0.99], x='learning_rate', y= 'reached_4096', label = '4096')\n",
    "ax = sns.scatterplot(data=results.loc[results['decay'] == 0.99], x='learning_rate', y= 'reached_8192', label = '8192')\n",
    "\n",
    "#specfiy axis labels\n",
    "ax.set(xlabel='Learning Rate',\n",
    "       ylabel='Percentage Achievement',\n",
    "       title='Learning Rate (10,000 episods, decay rate 0.99)')\n",
    "\n",
    "plt.savefig('learning_rate.png', dpi = 600)"
   ]
  },
  {
   "cell_type": "code",
   "execution_count": null,
   "metadata": {},
   "outputs": [],
   "source": []
  }
 ],
 "metadata": {
  "kernelspec": {
   "display_name": "Python 3.8.7 ('venv_zhaw': venv)",
   "language": "python",
   "name": "python3"
  },
  "language_info": {
   "codemirror_mode": {
    "name": "ipython",
    "version": 3
   },
   "file_extension": ".py",
   "mimetype": "text/x-python",
   "name": "python",
   "nbconvert_exporter": "python",
   "pygments_lexer": "ipython3",
   "version": "3.9.6"
  },
  "orig_nbformat": 4,
  "vscode": {
   "interpreter": {
    "hash": "907b5bce9f345e1b15d84e8befdac9f4cfeefad32ae2f0e18f49e389ed53cf3d"
   }
  }
 },
 "nbformat": 4,
 "nbformat_minor": 2
}

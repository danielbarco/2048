{
 "cells": [
  {
   "cell_type": "code",
   "execution_count": 6,
   "metadata": {},
   "outputs": [],
   "source": [
    "import seaborn as sns\n",
    "import json\n",
    "import pandas as pd\n",
    "import re"
   ]
  },
  {
   "cell_type": "code",
   "execution_count": 26,
   "metadata": {},
   "outputs": [
    {
     "data": {
      "text/html": [
       "<div>\n",
       "<style scoped>\n",
       "    .dataframe tbody tr th:only-of-type {\n",
       "        vertical-align: middle;\n",
       "    }\n",
       "\n",
       "    .dataframe tbody tr th {\n",
       "        vertical-align: top;\n",
       "    }\n",
       "\n",
       "    .dataframe thead th {\n",
       "        text-align: right;\n",
       "    }\n",
       "</style>\n",
       "<table border=\"1\" class=\"dataframe\">\n",
       "  <thead>\n",
       "    <tr style=\"text-align: right;\">\n",
       "      <th></th>\n",
       "      <th>filename</th>\n",
       "      <th>average</th>\n",
       "      <th>total_odo</th>\n",
       "      <th>reached_2048</th>\n",
       "      <th>reached_1024</th>\n",
       "    </tr>\n",
       "  </thead>\n",
       "  <tbody>\n",
       "    <tr>\n",
       "      <th>0</th>\n",
       "      <td>n4_a02_d09_agent.npy</td>\n",
       "      <td>23491.00</td>\n",
       "      <td>126569</td>\n",
       "      <td>50.0</td>\n",
       "      <td>85</td>\n",
       "    </tr>\n",
       "    <tr>\n",
       "      <th>1</th>\n",
       "      <td>n4_a02_d092_agent.npy</td>\n",
       "      <td>23894.28</td>\n",
       "      <td>128570</td>\n",
       "      <td>55.0</td>\n",
       "      <td>91</td>\n",
       "    </tr>\n",
       "    <tr>\n",
       "      <th>2</th>\n",
       "      <td>n4_a02_d094_agent.npy</td>\n",
       "      <td>28899.28</td>\n",
       "      <td>151476</td>\n",
       "      <td>65.0</td>\n",
       "      <td>92</td>\n",
       "    </tr>\n",
       "    <tr>\n",
       "      <th>3</th>\n",
       "      <td>n4_a02_d096_agent.npy</td>\n",
       "      <td>30268.72</td>\n",
       "      <td>156324</td>\n",
       "      <td>70.0</td>\n",
       "      <td>90</td>\n",
       "    </tr>\n",
       "    <tr>\n",
       "      <th>4</th>\n",
       "      <td>n4_a02_d098_agent.npy</td>\n",
       "      <td>35290.44</td>\n",
       "      <td>177452</td>\n",
       "      <td>76.0</td>\n",
       "      <td>95</td>\n",
       "    </tr>\n",
       "    <tr>\n",
       "      <th>5</th>\n",
       "      <td>n4_a02_d099_agent.npy</td>\n",
       "      <td>25179.16</td>\n",
       "      <td>130874</td>\n",
       "      <td>57.0</td>\n",
       "      <td>91</td>\n",
       "    </tr>\n",
       "    <tr>\n",
       "      <th>6</th>\n",
       "      <td>n4_a02_d1_agent.npy</td>\n",
       "      <td>31469.80</td>\n",
       "      <td>160636</td>\n",
       "      <td>68.0</td>\n",
       "      <td>91</td>\n",
       "    </tr>\n",
       "    <tr>\n",
       "      <th>7</th>\n",
       "      <td>n4_a01_d099_agent.npy</td>\n",
       "      <td>26786.48</td>\n",
       "      <td>141043</td>\n",
       "      <td>52.0</td>\n",
       "      <td>89</td>\n",
       "    </tr>\n",
       "    <tr>\n",
       "      <th>8</th>\n",
       "      <td>n4_a03_d099_agent.npy</td>\n",
       "      <td>21486.52</td>\n",
       "      <td>114103</td>\n",
       "      <td>48.0</td>\n",
       "      <td>82</td>\n",
       "    </tr>\n",
       "    <tr>\n",
       "      <th>9</th>\n",
       "      <td>n4_a04_d099_agent.npy</td>\n",
       "      <td>22297.52</td>\n",
       "      <td>119728</td>\n",
       "      <td>46.0</td>\n",
       "      <td>93</td>\n",
       "    </tr>\n",
       "  </tbody>\n",
       "</table>\n",
       "</div>"
      ],
      "text/plain": [
       "                filename   average  total_odo  reached_2048  reached_1024\n",
       "0   n4_a02_d09_agent.npy  23491.00     126569          50.0            85\n",
       "1  n4_a02_d092_agent.npy  23894.28     128570          55.0            91\n",
       "2  n4_a02_d094_agent.npy  28899.28     151476          65.0            92\n",
       "3  n4_a02_d096_agent.npy  30268.72     156324          70.0            90\n",
       "4  n4_a02_d098_agent.npy  35290.44     177452          76.0            95\n",
       "5  n4_a02_d099_agent.npy  25179.16     130874          57.0            91\n",
       "6    n4_a02_d1_agent.npy  31469.80     160636          68.0            91\n",
       "7  n4_a01_d099_agent.npy  26786.48     141043          52.0            89\n",
       "8  n4_a03_d099_agent.npy  21486.52     114103          48.0            82\n",
       "9  n4_a04_d099_agent.npy  22297.52     119728          46.0            93"
      ]
     },
     "execution_count": 26,
     "metadata": {},
     "output_type": "execute_result"
    }
   ],
   "source": [
    "results = pd.read_json('results copy.json')\n",
    "results"
   ]
  },
  {
   "cell_type": "code",
   "execution_count": 27,
   "metadata": {},
   "outputs": [
    {
     "data": {
      "text/plain": [
       "0.2"
      ]
     },
     "execution_count": 27,
     "metadata": {},
     "output_type": "execute_result"
    }
   ],
   "source": [
    "float(re.search('_a([^;]*)_d', 'n4_a02_d09_agent.npy').group(1).replace('0', '0.'))"
   ]
  },
  {
   "cell_type": "code",
   "execution_count": 31,
   "metadata": {},
   "outputs": [
    {
     "data": {
      "text/html": [
       "<div>\n",
       "<style scoped>\n",
       "    .dataframe tbody tr th:only-of-type {\n",
       "        vertical-align: middle;\n",
       "    }\n",
       "\n",
       "    .dataframe tbody tr th {\n",
       "        vertical-align: top;\n",
       "    }\n",
       "\n",
       "    .dataframe thead th {\n",
       "        text-align: right;\n",
       "    }\n",
       "</style>\n",
       "<table border=\"1\" class=\"dataframe\">\n",
       "  <thead>\n",
       "    <tr style=\"text-align: right;\">\n",
       "      <th></th>\n",
       "      <th>filename</th>\n",
       "      <th>average</th>\n",
       "      <th>total_odo</th>\n",
       "      <th>reached_2048</th>\n",
       "      <th>reached_1024</th>\n",
       "      <th>learning_rate</th>\n",
       "      <th>decay</th>\n",
       "    </tr>\n",
       "  </thead>\n",
       "  <tbody>\n",
       "    <tr>\n",
       "      <th>0</th>\n",
       "      <td>n4_a02_d09_agent.npy</td>\n",
       "      <td>23491.00</td>\n",
       "      <td>126569</td>\n",
       "      <td>50.0</td>\n",
       "      <td>85</td>\n",
       "      <td>0.2</td>\n",
       "      <td>0.90</td>\n",
       "    </tr>\n",
       "    <tr>\n",
       "      <th>1</th>\n",
       "      <td>n4_a02_d092_agent.npy</td>\n",
       "      <td>23894.28</td>\n",
       "      <td>128570</td>\n",
       "      <td>55.0</td>\n",
       "      <td>91</td>\n",
       "      <td>0.2</td>\n",
       "      <td>0.92</td>\n",
       "    </tr>\n",
       "    <tr>\n",
       "      <th>2</th>\n",
       "      <td>n4_a02_d094_agent.npy</td>\n",
       "      <td>28899.28</td>\n",
       "      <td>151476</td>\n",
       "      <td>65.0</td>\n",
       "      <td>92</td>\n",
       "      <td>0.2</td>\n",
       "      <td>0.94</td>\n",
       "    </tr>\n",
       "    <tr>\n",
       "      <th>3</th>\n",
       "      <td>n4_a02_d096_agent.npy</td>\n",
       "      <td>30268.72</td>\n",
       "      <td>156324</td>\n",
       "      <td>70.0</td>\n",
       "      <td>90</td>\n",
       "      <td>0.2</td>\n",
       "      <td>0.96</td>\n",
       "    </tr>\n",
       "    <tr>\n",
       "      <th>4</th>\n",
       "      <td>n4_a02_d098_agent.npy</td>\n",
       "      <td>35290.44</td>\n",
       "      <td>177452</td>\n",
       "      <td>76.0</td>\n",
       "      <td>95</td>\n",
       "      <td>0.2</td>\n",
       "      <td>0.98</td>\n",
       "    </tr>\n",
       "    <tr>\n",
       "      <th>5</th>\n",
       "      <td>n4_a02_d099_agent.npy</td>\n",
       "      <td>25179.16</td>\n",
       "      <td>130874</td>\n",
       "      <td>57.0</td>\n",
       "      <td>91</td>\n",
       "      <td>0.2</td>\n",
       "      <td>0.99</td>\n",
       "    </tr>\n",
       "    <tr>\n",
       "      <th>6</th>\n",
       "      <td>n4_a02_d1_agent.npy</td>\n",
       "      <td>31469.80</td>\n",
       "      <td>160636</td>\n",
       "      <td>68.0</td>\n",
       "      <td>91</td>\n",
       "      <td>0.2</td>\n",
       "      <td>1.00</td>\n",
       "    </tr>\n",
       "    <tr>\n",
       "      <th>7</th>\n",
       "      <td>n4_a01_d099_agent.npy</td>\n",
       "      <td>26786.48</td>\n",
       "      <td>141043</td>\n",
       "      <td>52.0</td>\n",
       "      <td>89</td>\n",
       "      <td>0.1</td>\n",
       "      <td>0.99</td>\n",
       "    </tr>\n",
       "    <tr>\n",
       "      <th>8</th>\n",
       "      <td>n4_a03_d099_agent.npy</td>\n",
       "      <td>21486.52</td>\n",
       "      <td>114103</td>\n",
       "      <td>48.0</td>\n",
       "      <td>82</td>\n",
       "      <td>0.3</td>\n",
       "      <td>0.99</td>\n",
       "    </tr>\n",
       "    <tr>\n",
       "      <th>9</th>\n",
       "      <td>n4_a04_d099_agent.npy</td>\n",
       "      <td>22297.52</td>\n",
       "      <td>119728</td>\n",
       "      <td>46.0</td>\n",
       "      <td>93</td>\n",
       "      <td>0.4</td>\n",
       "      <td>0.99</td>\n",
       "    </tr>\n",
       "  </tbody>\n",
       "</table>\n",
       "</div>"
      ],
      "text/plain": [
       "                filename   average  total_odo  reached_2048  reached_1024  \\\n",
       "0   n4_a02_d09_agent.npy  23491.00     126569          50.0            85   \n",
       "1  n4_a02_d092_agent.npy  23894.28     128570          55.0            91   \n",
       "2  n4_a02_d094_agent.npy  28899.28     151476          65.0            92   \n",
       "3  n4_a02_d096_agent.npy  30268.72     156324          70.0            90   \n",
       "4  n4_a02_d098_agent.npy  35290.44     177452          76.0            95   \n",
       "5  n4_a02_d099_agent.npy  25179.16     130874          57.0            91   \n",
       "6    n4_a02_d1_agent.npy  31469.80     160636          68.0            91   \n",
       "7  n4_a01_d099_agent.npy  26786.48     141043          52.0            89   \n",
       "8  n4_a03_d099_agent.npy  21486.52     114103          48.0            82   \n",
       "9  n4_a04_d099_agent.npy  22297.52     119728          46.0            93   \n",
       "\n",
       "   learning_rate  decay  \n",
       "0            0.2   0.90  \n",
       "1            0.2   0.92  \n",
       "2            0.2   0.94  \n",
       "3            0.2   0.96  \n",
       "4            0.2   0.98  \n",
       "5            0.2   0.99  \n",
       "6            0.2   1.00  \n",
       "7            0.1   0.99  \n",
       "8            0.3   0.99  \n",
       "9            0.4   0.99  "
      ]
     },
     "execution_count": 31,
     "metadata": {},
     "output_type": "execute_result"
    }
   ],
   "source": [
    "results['learning_rate'] = results['filename'].apply(lambda x: float(re.search('_a([^;]*)_d', x).group(1).replace('0', '0.')))\n",
    "results['decay'] = results['filename'].apply(lambda x: float(re.search('_d([^;]*)_agent', x).group(1).replace('0', '0.')))\n",
    "results"
   ]
  },
  {
   "cell_type": "code",
   "execution_count": null,
   "metadata": {},
   "outputs": [],
   "source": [
    "results['reached_2048_prct'] = results['reached_2048'] / 10\n",
    "results['reached_1024_prct'] = results['reached_1024'] / 10"
   ]
  },
  {
   "cell_type": "code",
   "execution_count": 32,
   "metadata": {},
   "outputs": [
    {
     "data": {
      "text/plain": [
       "<AxesSubplot:xlabel='decay', ylabel='reached_2048'>"
      ]
     },
     "execution_count": 32,
     "metadata": {},
     "output_type": "execute_result"
    },
    {
     "data": {
      "image/png": "[encoded data removed]",
      "text/plain": [
       "<Figure size 432x288 with 1 Axes>"
      ]
     },
     "metadata": {
      "needs_background": "light"
     },
     "output_type": "display_data"
    }
   ],
   "source": [
    "sns.scatterplot(data=results.loc[results['learning_rate'] == 0.2], x='decay', y= 'reached_2048')\n",
    "sns.scatterplot(data=results.loc[results['learning_rate'] == 0.2], x='decay', y= 'reached_1024')"
   ]
  },
  {
   "cell_type": "code",
   "execution_count": 30,
   "metadata": {},
   "outputs": [
    {
     "data": {
      "text/plain": [
       "<AxesSubplot:xlabel='learning_rate', ylabel='reached_2048'>"
      ]
     },
     "execution_count": 30,
     "metadata": {},
     "output_type": "execute_result"
    },
    {
     "data": {
      "image/png": "[encoded data removed]",
      "text/plain": [
       "<Figure size 432x288 with 1 Axes>"
      ]
     },
     "metadata": {
      "needs_background": "light"
     },
     "output_type": "display_data"
    }
   ],
   "source": [
    "sns.scatterplot(data=results.loc[results['decay'] == 0.99], x='learning_rate', y= 'reached_2048')"
   ]
  },
  {
   "cell_type": "code",
   "execution_count": null,
   "metadata": {},
   "outputs": [],
   "source": []
  }
 ],
 "metadata": {
  "kernelspec": {
   "display_name": "Python 3.8.7 ('venv_zhaw': venv)",
   "language": "python",
   "name": "python3"
  },
  "language_info": {
   "codemirror_mode": {
    "name": "ipython",
    "version": 3
   },
   "file_extension": ".py",
   "mimetype": "text/x-python",
   "name": "python",
   "nbconvert_exporter": "python",
   "pygments_lexer": "ipython3",
   "version": "3.9.6"
  },
  "orig_nbformat": 4,
  "vscode": {
   "interpreter": {
    "hash": "907b5bce9f345e1b15d84e8befdac9f4cfeefad32ae2f0e18f49e389ed53cf3d"
   }
  }
 },
 "nbformat": 4,
 "nbformat_minor": 2
}
